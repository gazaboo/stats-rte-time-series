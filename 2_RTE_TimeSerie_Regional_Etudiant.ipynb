{
 "cells": [
  {
   "cell_type": "markdown",
   "metadata": {},
   "source": [
    "# Projet : Consommation et production électrique en France"
   ]
  },
  {
   "cell_type": "markdown",
   "metadata": {},
   "source": [
    "## <a id='toc1_6_'></a>[Exploration du dataset Régional](#toc0_)"
   ]
  },
  {
   "cell_type": "markdown",
   "metadata": {},
   "source": [
    "### <a id='toc1_6_1_'></a>[Réflexion](#toc0_)"
   ]
  },
  {
   "cell_type": "markdown",
   "metadata": {},
   "source": [
    "Attention à bien nuancer nos propos dans cette partie là : chaque région n'est pas égale en population, en superficie,... \n",
    "- https://www.ined.fr/fr/tout-savoir-population/chiffres/france/structure-population/regions-departements/\n",
    "- https://www.regions-departements-france.fr/regions-francaises.html\n",
    "\n",
    "Pensez à réflechir à d'autres critères de comparaison reflétants ces disparités.   "
   ]
  },
  {
   "cell_type": "markdown",
   "metadata": {},
   "source": [
    "### <a id='toc1_6_2_'></a>[Analyse générale](#toc0_)"
   ]
  },
  {
   "cell_type": "markdown",
   "metadata": {},
   "source": [
    "On va commencer par une première exploration générale des données. \n",
    "\n",
    "\n",
    "&#x1F4A5; **To Do**\n",
    "\n",
    "\n",
    "    - Tracer sur un même graphique la consommation des différentes régions en fonction du temps\n",
    "    \n",
    "    - Peut-on observer des différences comportementales significatives entre les régions ? (par ex entre une région du nord et une région du sud)\n",
    "    \n",
    "    - Quelles régions sont les plus consommatrices ? Même question en ramenant la réponse au nombre d'habitants ? Même question en ramenant la réponse au km2 ? Que pouvez-vous dire des résultats ? \n",
    "        \n",
    "<br> \n",
    "\n",
    "**Ressources :** \n",
    "- https://pandas.pydata.org/docs/reference/api/pandas.DataFrame.pivot.html \n",
    "- https://pandas.pydata.org/docs/reference/api/pandas.DataFrame.resample.html\n",
    "- https://pandas.pydata.org/docs/reference/api/pandas.DataFrame.rolling.html\n",
    "- https://pandas.pydata.org/docs/reference/api/pandas.DataFrame.div.html"
   ]
  },
  {
   "cell_type": "markdown",
   "metadata": {},
   "source": [
    "### <a id='toc1_6_3_'></a>[Etude de la production non renouvelable.](#toc0_)"
   ]
  },
  {
   "cell_type": "markdown",
   "metadata": {},
   "source": [
    "&#x1F4A5; **To Do**\n",
    "\n",
    "    - Dans quelles régions produit-t-on le plus d'électricité d'origine non renouvelable ? \n",
    "    \n",
    "    - Quelle est l'évolution de la production d'électricité d'origine non renouvelable ? \n",
    "    \n",
    "    - Afficher la production nucléaire totale par région sur l'ensemble de la période . Dans quelles régions sont situées les centrales nucléaires ? Dans quelles régions n'y a-t-il pas de centrale nucléaire ?   "
   ]
  },
  {
   "cell_type": "markdown",
   "metadata": {},
   "source": [
    "### <a id='toc1_6_4_'></a>[Etude de la production renouvelable](#toc0_)\n"
   ]
  },
  {
   "cell_type": "markdown",
   "metadata": {},
   "source": [
    "&#x1F4A5; **To Do**\n",
    "\n",
    "    - Quelle région produit le plus d'électricité d'origine renouvelable ?\n",
    "\n",
    "    - Quelle évolution sur les dernières années ? Faîtes un joli graphique. \n",
    "   \n",
    "    - Quelle région a le meilleur taux \" énergie produite VS puissance installée \" ? \n",
    "    Vous pourrez assimiler la puissance installée comme étant égale au maximum produit. Attention à bien définir vos critères, cette capacité peut augmenter dans le temps..."
   ]
  },
  {
   "cell_type": "markdown",
   "metadata": {},
   "source": [
    "### <a id='toc1_6_5_'></a>[Autonomie électrique des régions](#toc0_)"
   ]
  },
  {
   "cell_type": "markdown",
   "metadata": {
    "hidden": true
   },
   "source": [
    "&#x1F4A5; **To Do**\n",
    "\n",
    "    - Afficher la différence entre la consommation et la production pour chaque région. \n",
    "    \n",
    "    - Quelles régions sont autonomes ? En excès ? En déficit ?\n",
    "    \n",
    "    - Comparer ce résultat à la colonne 'Ech. physiques'\n",
    "    \n",
    "    - Afficher un histogramme de l'écart entre énergie produite et consommée. Calculer la moyenne et la variance de cet écart.  \n",
    "        \n",
    "    - Observer les informations concernant la région AuRA. Retrouver la signification du signe des échanges ? Pourquoi la région est-elle autant exportatrice ?"
   ]
  }
 ],
 "metadata": {
  "extensions": {
   "jupyter_dashboards": {
    "activeView": "report_default",
    "version": 1,
    "views": {
     "grid_default": {
      "cellMargin": 10,
      "defaultCellHeight": 20,
      "maxColumns": 12,
      "name": "grid",
      "type": "grid"
     },
     "report_default": {
      "name": "report",
      "type": "report"
     }
    }
   }
  },
  "kernelspec": {
   "display_name": "stats",
   "language": "python",
   "name": "stats"
  },
  "language_info": {
   "codemirror_mode": {
    "name": "ipython",
    "version": 3
   },
   "file_extension": ".py",
   "mimetype": "text/x-python",
   "name": "python",
   "nbconvert_exporter": "python",
   "pygments_lexer": "ipython3",
   "version": "3.12.2"
  },
  "toc": {
   "base_numbering": 1,
   "nav_menu": {},
   "number_sections": true,
   "sideBar": true,
   "skip_h1_title": true,
   "title_cell": "Table of Contents",
   "title_sidebar": "Contents",
   "toc_cell": false,
   "toc_position": {
    "height": "calc(100% - 180px)",
    "left": "10px",
    "top": "150px",
    "width": "204.067px"
   },
   "toc_section_display": true,
   "toc_window_display": false
  },
  "toc-autonumbering": true,
  "toc-showcode": false,
  "varInspector": {
   "cols": {
    "lenName": 16,
    "lenType": 16,
    "lenVar": 40
   },
   "kernels_config": {
    "python": {
     "delete_cmd_postfix": "",
     "delete_cmd_prefix": "del ",
     "library": "var_list.py",
     "varRefreshCmd": "print(var_dic_list())"
    },
    "r": {
     "delete_cmd_postfix": ") ",
     "delete_cmd_prefix": "rm(",
     "library": "var_list.r",
     "varRefreshCmd": "cat(var_dic_list()) "
    }
   },
   "types_to_exclude": [
    "module",
    "function",
    "builtin_function_or_method",
    "instance",
    "_Feature"
   ],
   "window_display": false
  }
 },
 "nbformat": 4,
 "nbformat_minor": 4
}
