{
 "cells": [
  {
   "cell_type": "markdown",
   "metadata": {},
   "source": [
    "# Projet : Consommation et production électrique en France"
   ]
  },
  {
   "cell_type": "markdown",
   "metadata": {
    "extensions": {
     "jupyter_dashboards": {
      "version": 1,
      "views": {
       "grid_default": {
        "col": 4,
        "height": 4,
        "hidden": false,
        "row": 12,
        "width": 4
       },
       "report_default": {
        "hidden": false
       }
      }
     }
    }
   },
   "source": [
    "## Etude des habitudes de consommations "
   ]
  },
  {
   "cell_type": "markdown",
   "metadata": {
    "extensions": {
     "jupyter_dashboards": {
      "version": 1,
      "views": {
       "grid_default": {
        "col": 4,
        "height": 4,
        "hidden": false,
        "row": 12,
        "width": 4
       },
       "report_default": {
        "hidden": false
       }
      }
     }
    }
   },
   "source": [
    "Dans cette partie vous choisirez le dataframe (national ou régional) qui vous paraît le plus adapté en fonction des questions. \n",
    "\n",
    "&#x1F4A5; **To Do**\n",
    "\n",
    "    - A quelle heure de la journée consomme-t-on en moyenne le moins ? \n",
    "\n",
    "    - Afficher les moyennes des consommations selon le jour de la semaine. Est-ce logique ? \n",
    "\n",
    "    - Tracer ces mêmes courbes, en ne sélectionnant que les jours de semaine, puis que les jours de week end. Quelles différences de comportement peut-on observer ?\n",
    "    \n",
    "    - Tracer les consommations horaires (par heure) moyenne en décembre et en juin. Peut-on observer les différences d'ensoleillement entre les régions ?\n",
    "    \n",
    "    - Afficher les moyennes des consommations régionales pour chaque année, avec et sans standardisation. Quelles informations visualisez vous ?\n",
    "\n",
    "\n",
    "**Aide**\n",
    "\n",
    "- un `DatetimeIndex` possède de nombreux attributs et méthodes utiles: https://pandas.pydata.org/pandas-docs/stable/reference/api/pandas.DatetimeIndex.html\n",
    "- Regarder la doc des méthodes `groupby`, `unstack`, `pivot`...\n",
    "- Si besoin, utiliser la méthode `seaborn.heatmap` pour visualiser vos résultats (`cmap=\"YlGnBu\"`)"
   ]
  },
  {
   "cell_type": "markdown",
   "metadata": {},
   "source": [
    "#### moyennes des consommations régionales pour chaque année, avec et sans standardisation"
   ]
  },
  {
   "cell_type": "markdown",
   "metadata": {
    "heading_collapsed": true
   },
   "source": [
    "## Relation entre les features / variables"
   ]
  },
  {
   "cell_type": "markdown",
   "metadata": {
    "heading_collapsed": true
   },
   "source": [
    "## Liens productions / consommation"
   ]
  },
  {
   "cell_type": "markdown",
   "metadata": {
    "hidden": true
   },
   "source": [
    "**TODO**\n",
    "        \n",
    "- Afficher les correlations entre toutes les productions et la consommation\n",
    "- Quelles éléments sont corrélés parce que liés ? Quels éléments sont corrélés mais n'ont à priori pas de lien de cause à effet ?\n",
    "- Quel indice montre que la consommation 'cause' la production avec du gaz ?\n",
    "- Quels types de productions permettent de \"suivre\" la consommation ? Lesquels ne le permettent pas du tout (productions \"fatales\")\n",
    "- Choisissez une ou deux régions et observez ces mêmes corrélations."
   ]
  },
  {
   "cell_type": "markdown",
   "metadata": {
    "hidden": true
   },
   "source": [
    "Le nucléaire produit beaucoup, mais est peu pilotable. <br/>\n",
    "En revanche le gaz est allumé lorsqu'il y a beaucoup de demande : la demande cause la production de gaz."
   ]
  },
  {
   "cell_type": "markdown",
   "metadata": {
    "heading_collapsed": true
   },
   "source": [
    "## BONUS : Prix de l'électricité"
   ]
  },
  {
   "cell_type": "markdown",
   "metadata": {
    "hidden": true
   },
   "source": [
    "On s'intéresse maintenant aux données dans le dossier \"data entsoe\".<br/>\n",
    "https://www.opendatadsl.com/docs/company/ENTSOE#datasets"
   ]
  },
  {
   "cell_type": "markdown",
   "metadata": {
    "hidden": true
   },
   "source": [
    "**TODO**\n",
    "\n",
    "- Charger les prix de marché de l'électricité  (en France et en Allemagne)  <br/>\n",
    "- Chercher les liens (https://pandas.pydata.org/pandas-docs/stable/reference/api/pandas.DataFrame.corr.html) entre : \n",
    "    - Le prix de l'électricité et la consommation nationale ?\n",
    "    - Le prix de l'électricité et les sources de production ? \n",
    "    - Quelles sources semblent associées aux prix élevés ? aux prix faibles ?\n",
    "            \n",
    "**Aide:**\n",
    "\n",
    "- Attention aux timezone ! Les prix sont en UTC. Les méthodes **tz_localize('UTC') et tz_convert('Europe/Paris')** pourraient vous aider ...\n",
    "- On ne peut pas comparer timeserie \"localisée\" avec une autre qui ne l'est pas (\"naive\")\n",
    "- Pour associer le dataframe de conso/prod à une timezone : les changements d'heures ont mal été gérés (cherchez à comprendre le problème). Utliser **\"ambiguous = 'NaT', nonexistent='NaT'\"** pour le contourner.\n",
    "- Y a-t-il des **outliers** ?"
   ]
  },
  {
   "cell_type": "markdown",
   "metadata": {
    "heading_collapsed": true
   },
   "source": [
    "## BONUS : Emissions de CO2\n",
    "\n",
    "**TODO**\n",
    "\n",
    "- Quel lien entre le taux de C02 et les différentes sources de productions ?\n",
    "- Quelles sources semblent les plus émettrices ?"
   ]
  },
  {
   "cell_type": "markdown",
   "metadata": {
    "heading_collapsed": true
   },
   "source": [
    "## BONUS : Caractéristation des échanges avec les frontières\n",
    "**TODO**\n",
    "\n",
    "- A quel moment les échanges ont-il principalement lieu ?\n",
    "- Quel est le prix payé par la France lorsqu'elle importe de l'électricité ? \n",
    "- Quel est le prix reçu lors des exportations ?"
   ]
  },
  {
   "cell_type": "markdown",
   "metadata": {
    "hidden": true
   },
   "source": [
    "\n",
    "` >0 = importation, <0 = exportation`"
   ]
  }
 ],
 "metadata": {
  "extensions": {
   "jupyter_dashboards": {
    "activeView": "report_default",
    "version": 1,
    "views": {
     "grid_default": {
      "cellMargin": 10,
      "defaultCellHeight": 20,
      "maxColumns": 12,
      "name": "grid",
      "type": "grid"
     },
     "report_default": {
      "name": "report",
      "type": "report"
     }
    }
   }
  },
  "kernelspec": {
   "display_name": "Python 3 (ipykernel)",
   "language": "python",
   "name": "python3"
  },
  "language_info": {
   "codemirror_mode": {
    "name": "ipython",
    "version": 3
   },
   "file_extension": ".py",
   "mimetype": "text/x-python",
   "name": "python",
   "nbconvert_exporter": "python",
   "pygments_lexer": "ipython3",
   "version": "3.11.7"
  },
  "toc": {
   "base_numbering": 1,
   "nav_menu": {},
   "number_sections": true,
   "sideBar": true,
   "skip_h1_title": true,
   "title_cell": "Table of Contents",
   "title_sidebar": "Contents",
   "toc_cell": false,
   "toc_position": {
    "height": "calc(100% - 180px)",
    "left": "10px",
    "top": "150px",
    "width": "204.067px"
   },
   "toc_section_display": true,
   "toc_window_display": false
  },
  "varInspector": {
   "cols": {
    "lenName": 16,
    "lenType": 16,
    "lenVar": 40
   },
   "kernels_config": {
    "python": {
     "delete_cmd_postfix": "",
     "delete_cmd_prefix": "del ",
     "library": "var_list.py",
     "varRefreshCmd": "print(var_dic_list())"
    },
    "r": {
     "delete_cmd_postfix": ") ",
     "delete_cmd_prefix": "rm(",
     "library": "var_list.r",
     "varRefreshCmd": "cat(var_dic_list()) "
    }
   },
   "types_to_exclude": [
    "module",
    "function",
    "builtin_function_or_method",
    "instance",
    "_Feature"
   ],
   "window_display": false
  }
 },
 "nbformat": 4,
 "nbformat_minor": 4
}
