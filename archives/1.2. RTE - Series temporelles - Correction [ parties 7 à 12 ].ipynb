{
 "cells": [
  {
   "cell_type": "markdown",
   "metadata": {},
   "source": [
    "# Projet : Consommation et production électrique en France"
   ]
  },
  {
   "cell_type": "markdown",
   "metadata": {
    "extensions": {
     "jupyter_dashboards": {
      "version": 1,
      "views": {
       "grid_default": {
        "col": 4,
        "height": 4,
        "hidden": false,
        "row": 12,
        "width": 4
       },
       "report_default": {
        "hidden": false
       }
      }
     }
    },
    "jp-MarkdownHeadingCollapsed": true
   },
   "source": [
    "## Etude des habitudes de consommations "
   ]
  },
  {
   "cell_type": "markdown",
   "metadata": {
    "extensions": {
     "jupyter_dashboards": {
      "version": 1,
      "views": {
       "grid_default": {
        "col": 4,
        "height": 4,
        "hidden": false,
        "row": 12,
        "width": 4
       },
       "report_default": {
        "hidden": false
       }
      }
     }
    }
   },
   "source": [
    "Dans cette partie vous choisirez le dataframe (national ou régional) qui vous paraît le plus adapté en fonction des questions. \n",
    "\n",
    "&#x1F4A5; **To Do**\n",
    "\n",
    "    - A quelle heure de la journée consomme-t-on en moyenne le moins ? \n",
    "\n",
    "    - Afficher les moyennes des consommations selon le jour de la semaine. Est-ce logique ? \n",
    "\n",
    "    - Tracer ces mêmes courbes, en ne sélectionnant que les jours de semaine, puis que les jours de week end. Quelles différences de comportement peut-on observer ?\n",
    "    \n",
    "    - Tracer les consommations horaires (par heure) moyenne en décembre et en juin. Peut-on observer les différences d'ensoleillement entre les régions ?\n",
    "    \n",
    "    - Afficher les moyennes des consommations régionales pour chaque année, avec et sans standardisation. Quelles informations visualisez vous ?\n",
    "\n",
    "\n",
    "**Aide**\n",
    "\n",
    "- un `DatetimeIndex` possède de nombreux attributs et méthodes utiles: https://pandas.pydata.org/pandas-docs/stable/reference/api/pandas.DatetimeIndex.html\n",
    "- Regarder la doc des méthodes `groupby`, `unstack`, `pivot`...\n",
    "- Si besoin, utiliser la méthode `seaborn.heatmap` pour visualiser vos résultats (`cmap=\"YlGnBu\"`)"
   ]
  },
  {
   "cell_type": "markdown",
   "metadata": {},
   "source": [
    "#### moyennes des consommations régionales pour chaque année, avec et sans standardisation"
   ]
  },
  {
   "cell_type": "code",
   "execution_count": null,
   "metadata": {},
   "outputs": [],
   "source": [
    "# Laisser le premier code par année en exemple pour s'approprier le groupby ?"
   ]
  },
  {
   "cell_type": "code",
   "execution_count": null,
   "metadata": {},
   "outputs": [],
   "source": [
    "# sans standardisation\n",
    "groupbyyear = df_regional_swaped['Consommation'].groupby(df_regional.index.year)\n",
    "groupbyyear.mean().plot(figsize=(15, 4))"
   ]
  },
  {
   "cell_type": "code",
   "execution_count": null,
   "metadata": {},
   "outputs": [],
   "source": [
    "groupbyyear.head()"
   ]
  },
  {
   "cell_type": "code",
   "execution_count": null,
   "metadata": {
    "scrolled": true
   },
   "outputs": [],
   "source": [
    "# avec standardisation\n",
    "groupbyyear.mean().transform(lambda x: (x - x.mean()) / x.std()).plot(figsize=(15, 4))"
   ]
  },
  {
   "cell_type": "markdown",
   "metadata": {},
   "source": [
    "La standardisation ne change pas le comportement des données, change l'échelle par contre : on voit mieux ce qu'il se passe dans les données"
   ]
  },
  {
   "cell_type": "code",
   "execution_count": null,
   "metadata": {},
   "outputs": [],
   "source": [
    "# avec standardisation\n",
    "import seaborn as sns\n",
    "sns.heatmap(groupbyyear.mean().transform(lambda x: (x - x.mean()) / x.std(), axis=0), cmap=\"YlGnBu\")"
   ]
  },
  {
   "cell_type": "markdown",
   "metadata": {},
   "source": [
    "#### moyenne de consommation selon le jour de la semaine"
   ]
  },
  {
   "cell_type": "code",
   "execution_count": null,
   "metadata": {},
   "outputs": [],
   "source": [
    "# sans standardisation\n",
    "groupbyweek = df_regional_swaped['Consommation'].groupby(df_regional.index.dayofweek).mean()\n",
    "groupbyweek.plot(figsize=(15, 4))"
   ]
  },
  {
   "cell_type": "code",
   "execution_count": null,
   "metadata": {},
   "outputs": [],
   "source": [
    "# avec standardisation\n",
    "groupbyweek.transform(lambda x: (x - x.mean()) / x.std(), axis=0).plot(figsize=(15, 4))"
   ]
  },
  {
   "cell_type": "markdown",
   "metadata": {},
   "source": [
    "#### consommations décembre vs juin"
   ]
  },
  {
   "cell_type": "code",
   "execution_count": null,
   "metadata": {},
   "outputs": [],
   "source": [
    "conso=df_regional_swaped.Consommation\n",
    "conso_june=conso[conso.index.month==6]\n",
    "conso_dec=conso[conso.index.month==12]"
   ]
  },
  {
   "cell_type": "code",
   "execution_count": null,
   "metadata": {},
   "outputs": [],
   "source": [
    "conso_june.head()"
   ]
  },
  {
   "cell_type": "code",
   "execution_count": null,
   "metadata": {
    "scrolled": true
   },
   "outputs": [],
   "source": [
    "conso_dec.groupby(conso_dec.index.time).mean()"
   ]
  },
  {
   "cell_type": "code",
   "execution_count": null,
   "metadata": {},
   "outputs": [],
   "source": [
    "# par heure\n",
    "conso=df_regional_swaped.Consommation\n",
    "conso_june=conso[conso.index.month==6]\n",
    "conso_dec=conso[conso.index.month==12]\n",
    "conso_june.groupby(conso_june.index.time).mean().plot(figsize=(12, 4))\n",
    "conso_dec.groupby(conso_dec.index.time).mean().plot(figsize=(12, 4))"
   ]
  },
  {
   "cell_type": "code",
   "execution_count": null,
   "metadata": {
    "scrolled": true
   },
   "outputs": [],
   "source": [
    "# avec standardisation\n",
    "conso_june.groupby(conso_june.index.time).mean().transform(lambda x: (x - x.mean()) / x.std(), axis=0).plot(figsize=(12, 4))\n",
    "conso_dec.groupby(conso_dec.index.time).mean().transform(lambda x: (x - x.mean()) / x.std(), axis=0).plot(figsize=(12, 4))"
   ]
  },
  {
   "cell_type": "markdown",
   "metadata": {},
   "source": [
    "#### consommation semaine vs week end"
   ]
  },
  {
   "cell_type": "code",
   "execution_count": null,
   "metadata": {},
   "outputs": [],
   "source": [
    "# la semaine\n",
    "df_dec = conso[(conso.index.month == 12) & (conso.index.dayofweek < 5)]\n",
    "groupbyhour = df_dec.groupby(df_dec.index.hour)\n",
    "groupbyhour.mean().transform(lambda x: (x - x.mean()) / x.std()).plot(figsize=(12, 4))"
   ]
  },
  {
   "cell_type": "code",
   "execution_count": null,
   "metadata": {},
   "outputs": [],
   "source": [
    "# le week-end\n",
    "df_dec = conso[(conso.index.month == 12) & (conso.index.dayofweek > 4)]\n",
    "groupbyhour = df_dec.groupby(df_dec.index.hour)\n",
    "groupbyhour.mean().transform(lambda x: (x - x.mean()) / x.std()).plot(figsize=(12, 4))"
   ]
  },
  {
   "cell_type": "markdown",
   "metadata": {
    "heading_collapsed": true
   },
   "source": [
    "## Relation entre les features / variables"
   ]
  },
  {
   "cell_type": "markdown",
   "metadata": {
    "heading_collapsed": true
   },
   "source": [
    "## Liens productions / consommation"
   ]
  },
  {
   "cell_type": "markdown",
   "metadata": {
    "hidden": true
   },
   "source": [
    "**TODO**\n",
    "        \n",
    "- Afficher les correlations entre toutes les productions et la consommation\n",
    "- Quelles éléments sont corrélés parce que liés ? Quels éléments sont corrélés mais n'ont à priori pas de lien de cause à effet ?\n",
    "- Quel indice montre que la consommation 'cause' la production avec du gaz ?\n",
    "- Quels types de productions permettent de \"suivre\" la consommation ? Lesquels ne le permettent pas du tout (productions \"fatales\")\n",
    "- Choisissez une ou deux régions et observez ces mêmes corrélations."
   ]
  },
  {
   "cell_type": "markdown",
   "metadata": {
    "hidden": true
   },
   "source": [
    "Le nucléaire produit beaucoup, mais est peu pilotable. <br/>\n",
    "En revanche le gaz est allumé lorsqu'il y a beaucoup de demande : la demande cause la production de gaz."
   ]
  },
  {
   "cell_type": "markdown",
   "metadata": {
    "hidden": true
   },
   "source": [
    "### Au niveau national"
   ]
  },
  {
   "cell_type": "markdown",
   "metadata": {
    "hidden": true
   },
   "source": [
    "#### Afficher les correlations entre toutes les productions et la consommation"
   ]
  },
  {
   "cell_type": "code",
   "execution_count": null,
   "metadata": {
    "hidden": true,
    "scrolled": true
   },
   "outputs": [],
   "source": [
    "sns.heatmap(df_national[prod_+['Consommation']].corr(), cmap=\"RdBu_r\", vmin=-1, vmax=1, linewidths=0.1)"
   ]
  },
  {
   "cell_type": "markdown",
   "metadata": {
    "hidden": true
   },
   "source": [
    "Nucléaire et gaz corrélés avec la consommation : on pourrait penser que plus on consomme plus on a besoin de ces sources de production"
   ]
  },
  {
   "cell_type": "markdown",
   "metadata": {
    "hidden": true
   },
   "source": [
    "#### Quels éléments sont corrélés parce que liés ? Quels éléments sont corrélés mais n'ont à priori pas de lien de cause à effet ?"
   ]
  },
  {
   "cell_type": "markdown",
   "metadata": {
    "hidden": true
   },
   "source": [
    "Les corrélations peuvent être dues à une relation de causalité, par exemple, une hausse rapide de la consommation va entrainer une hausse de la production avec du gaz. Ainsi on peut noter que la production de gaz suit une hausse de la consommation. Ce genre d'intuition est à l'origine de la notion de [causalité de Granger](https://en.wikipedia.org/wiki/Granger_causality)"
   ]
  },
  {
   "cell_type": "markdown",
   "metadata": {
    "hidden": true
   },
   "source": [
    "Gaz et nucléaire semblent liés : mais uniquement parce qu'ils sont liés à la consommation"
   ]
  },
  {
   "cell_type": "markdown",
   "metadata": {
    "hidden": true
   },
   "source": [
    "#### Quel indice montre que la consommation 'cause' la production avec du gaz?"
   ]
  },
  {
   "cell_type": "code",
   "execution_count": null,
   "metadata": {
    "hidden": true
   },
   "outputs": [],
   "source": [
    "comp = df_national[['Gaz', 'Consommation']].dropna()\n",
    "comp =comp/comp.max()\n",
    "comp.iloc[:1000].plot(figsize=(12, 4))"
   ]
  },
  {
   "cell_type": "markdown",
   "metadata": {
    "hidden": true
   },
   "source": [
    "Ci dessous on vérifie que la production de gaz suit en moyenne la hausse de la consommation :<br/>\n",
    "An idea from: https://stackoverflow.com/questions/33171413/cross-correlation-time-lag-correlation-with-pandas"
   ]
  },
  {
   "cell_type": "code",
   "execution_count": null,
   "metadata": {
    "hidden": true
   },
   "outputs": [],
   "source": [
    "def crosscorr(datax, datay, lag=0):\n",
    "    \"\"\" Lag-N cross correlation. \n",
    "    Parameters\n",
    "    ----------\n",
    "    lag : int, default 0\n",
    "    datax, datay : pandas.Series objects of equal length\n",
    "\n",
    "    Returns\n",
    "    ----------\n",
    "    crosscorr : float\n",
    "    \"\"\"\n",
    "    return datax.corr(datay.shift(lag))"
   ]
  },
  {
   "cell_type": "code",
   "execution_count": null,
   "metadata": {
    "hidden": true
   },
   "outputs": [],
   "source": [
    "import matplotlib.pyplot as plt\n",
    "lags = range(-3, 3)\n",
    "lagged_corr = [crosscorr(comp['Gaz'], comp['Consommation'], lag=lag) for lag in lags]\n",
    "plt.plot(lags, lagged_corr);plt.show()"
   ]
  },
  {
   "cell_type": "markdown",
   "metadata": {
    "hidden": true
   },
   "source": [
    "#### Quels types de productions permettent de \"suivre\" la consommation ? Lesquels ne le permettent pas du tout (productions \"fatales\")"
   ]
  },
  {
   "cell_type": "markdown",
   "metadata": {
    "hidden": true
   },
   "source": [
    "De la même manière une hausse de la consommation va entrainer une hausse de la production nucléaire, mais comme des centrales nucléaires ne peuvent pas être allumées rapidement, cette hausse se fait à l'échelle de l'année :"
   ]
  },
  {
   "cell_type": "code",
   "execution_count": null,
   "metadata": {
    "hidden": true
   },
   "outputs": [],
   "source": [
    "comp = df_national[['Nucléaire', 'Consommation']].dropna()\n",
    "comp =comp/comp.max()\n",
    "comp.iloc[:1000].plot(figsize=(12, 4))"
   ]
  },
  {
   "cell_type": "code",
   "execution_count": null,
   "metadata": {
    "hidden": true
   },
   "outputs": [],
   "source": [
    "comp = df_national[['Nucléaire', 'Consommation']].dropna()\n",
    "comp =comp/comp.max()\n",
    "comp.resample('1D').mean().plot(figsize=(12, 4))"
   ]
  },
  {
   "cell_type": "code",
   "execution_count": null,
   "metadata": {
    "hidden": true
   },
   "outputs": [],
   "source": [
    "import matplotlib.pyplot as plt\n",
    "lags = range(-3, 3)\n",
    "comp = df_national[['Nucléaire', 'Consommation']].dropna()\n",
    "comp =comp/comp.max()\n",
    "lagged_corr = [crosscorr(comp['Nucléaire'], comp['Consommation'], lag=lag) for lag in lags]\n",
    "plt.plot(lags, lagged_corr);plt.show()"
   ]
  },
  {
   "cell_type": "markdown",
   "metadata": {
    "hidden": true
   },
   "source": [
    "En revanche le solaire ou l'éolien sont peu pilotables :"
   ]
  },
  {
   "cell_type": "code",
   "execution_count": null,
   "metadata": {
    "hidden": true
   },
   "outputs": [],
   "source": [
    "comp = df_national[['Solaire', 'Eolien', 'Consommation']].dropna()\n",
    "comp =comp/comp.max()\n",
    "comp.resample('1D').mean().plot(figsize=(12, 4))"
   ]
  },
  {
   "cell_type": "code",
   "execution_count": null,
   "metadata": {
    "hidden": true
   },
   "outputs": [],
   "source": [
    "comp = df_national[['Solaire', 'Eolien', 'Consommation']].dropna()\n",
    "comp =comp/comp.max()\n",
    "comp.iloc[:500].plot(figsize=(12, 4))"
   ]
  },
  {
   "cell_type": "markdown",
   "metadata": {
    "hidden": true
   },
   "source": [
    "### Au niveau régional"
   ]
  },
  {
   "cell_type": "markdown",
   "metadata": {
    "hidden": true
   },
   "source": [
    "Même démarche"
   ]
  },
  {
   "cell_type": "code",
   "execution_count": null,
   "metadata": {
    "hidden": true
   },
   "outputs": [],
   "source": [
    "sns.heatmap(df_regional['Auvergne-Rh├┤ne-Alpes'].corr(), cmap=\"RdBu_r\", vmin=-1, vmax=1, linewidths=0.1)"
   ]
  },
  {
   "cell_type": "code",
   "execution_count": null,
   "metadata": {
    "hidden": true
   },
   "outputs": [],
   "source": [
    "sns.heatmap(df_regional['Ile-de-France'].corr(), cmap=\"RdBu_r\", vmin=-1, vmax=1, linewidths=0.1)"
   ]
  },
  {
   "cell_type": "code",
   "execution_count": null,
   "metadata": {
    "hidden": true
   },
   "outputs": [],
   "source": [
    "sns.heatmap(df_regional['PACA'].corr(), cmap=\"RdBu_r\", vmin=-1, vmax=1, linewidths=0.1)"
   ]
  },
  {
   "cell_type": "markdown",
   "metadata": {
    "heading_collapsed": true
   },
   "source": [
    "## BONUS : Prix de l'électricité"
   ]
  },
  {
   "cell_type": "markdown",
   "metadata": {
    "hidden": true
   },
   "source": [
    "On s'intéresse maintenant aux données dans le dossier \"data entsoe\".<br/>\n",
    "https://www.opendatadsl.com/docs/company/ENTSOE#datasets"
   ]
  },
  {
   "cell_type": "markdown",
   "metadata": {
    "hidden": true
   },
   "source": [
    "**TODO**\n",
    "\n",
    "- Charger les prix de marché de l'électricité  (en France et en Allemagne)  <br/>\n",
    "- Chercher les liens (https://pandas.pydata.org/pandas-docs/stable/reference/api/pandas.DataFrame.corr.html) entre : \n",
    "    - Le prix de l'électricité et la consommation nationale ?\n",
    "    - Le prix de l'électricité et les sources de production ? \n",
    "    - Quelles sources semblent associées aux prix élevés ? aux prix faibles ?\n",
    "            \n",
    "**Aide:**\n",
    "\n",
    "- Attention aux timezone ! Les prix sont en UTC. Les méthodes **tz_localize('UTC') et tz_convert('Europe/Paris')** pourraient vous aider ...\n",
    "- On ne peut pas comparer timeserie \"localisée\" avec une autre qui ne l'est pas (\"naive\")\n",
    "- Pour associer le dataframe de conso/prod à une timezone : les changements d'heures ont mal été gérés (cherchez à comprendre le problème). Utliser **\"ambiguous = 'NaT', nonexistent='NaT'\"** pour le contourner.\n",
    "- Y a-t-il des **outliers** ?"
   ]
  },
  {
   "cell_type": "markdown",
   "metadata": {
    "hidden": true
   },
   "source": [
    "#### Charger les prix de marché de l'électricité (en France et en Allemagne)"
   ]
  },
  {
   "cell_type": "code",
   "execution_count": null,
   "metadata": {
    "hidden": true
   },
   "outputs": [],
   "source": [
    "def read_data_entsoe(file):\n",
    "    df = pd.read_csv(file)\n",
    "    df['start'], _ = df['MTU (UTC)'].str.split(' - ', 1).str\n",
    "    df.set_index('start', inplace=True)\n",
    "    df.index = pd.to_datetime(df.index, yearfirst=True)\n",
    "    df.drop(columns=['MTU (UTC)'], inplace=True)\n",
    "    return df"
   ]
  },
  {
   "cell_type": "code",
   "execution_count": null,
   "metadata": {
    "hidden": true
   },
   "outputs": [],
   "source": [
    "DATA_FILE = './data/data entsoe/France/'\n",
    "\n",
    "def get_prices(folder, col='fr'):\n",
    "    df_prices = []\n",
    "    for f in listdir(folder):\n",
    "        df = read_data_entsoe(folder + f)\n",
    "        df.columns = [col]\n",
    "        df_prices.append(df)\n",
    "    df_prices= pd.concat(df_prices, axis=0)\n",
    "    return df_prices\n",
    "\n",
    "df_prices = pd.concat((get_prices('./data/data entsoe/Electricity_price/France/', 'fr'),\n",
    "                         get_prices('./data/data entsoe/Electricity_price/Germany/', 'ger')), 1)\n"
   ]
  },
  {
   "cell_type": "markdown",
   "metadata": {
    "hidden": true
   },
   "source": [
    "<details><summary>Code import données électricité</summary><br>\n",
    "def read_data_entsoe(file):<br/>\n",
    "    df = pd.read_csv(file)<br/>\n",
    "    df['start'], _ = df['MTU (UTC)'].str.split(' - ', 1).str<br/>\n",
    "    df.set_index('start', inplace=True)<br/>\n",
    "    df.index = pd.to_datetime(df.index, yearfirst=True)<br/>\n",
    "    df.drop(columns=['MTU (UTC)'], inplace=True)<br/>\n",
    "    return df<br/>\n",
    "    \n",
    "DATA_FILE = './data/data entsoe/France/'<br/>\n",
    "\n",
    "def get_prices(folder, col='fr'):<br/>\n",
    "    df_prices = []<br/>\n",
    "    for f in listdir(folder):<br/>\n",
    "        df = read_data_entsoe(folder + f)<br/>\n",
    "        df.columns = [col]<br/>\n",
    "        df_prices.append(df)<br/>\n",
    "    df_prices= pd.concat(df_prices, axis=0)<br/>\n",
    "    return df_prices<br/>\n",
    "\n",
    "df_prices = pd.concat((get_prices('./data/data entsoe/Electricity_price/France/', 'fr'),<br/>\n",
    "                         get_prices('./data/data entsoe/Electricity_price/Germany/', 'ger')), 1)<br/>\n",
    "</details>"
   ]
  },
  {
   "cell_type": "code",
   "execution_count": null,
   "metadata": {
    "hidden": true
   },
   "outputs": [],
   "source": [
    "df_prices.describe()"
   ]
  },
  {
   "cell_type": "code",
   "execution_count": null,
   "metadata": {
    "hidden": true
   },
   "outputs": [],
   "source": [
    "import numpy as np\n",
    "df_prices.loc[df_prices.fr > 500, 'fr'] = np.nan # remplacement par nan des valeurs aberrantes\n",
    "df_prices.describe()"
   ]
  },
  {
   "cell_type": "code",
   "execution_count": null,
   "metadata": {
    "hidden": true
   },
   "outputs": [],
   "source": [
    "# assign time zone and convert to european time\n",
    "df_prices = df_prices.tz_localize('UTC').tz_convert('Europe/Paris').dropna()\n",
    "df_national = df_national.tz_localize('Europe/Paris', ambiguous = 'NaT', nonexistent='NaT').dropna()\n",
    "# ambiguous = 'NaT', nonexistent='NaT' à cause des chgt d'heures ..."
   ]
  },
  {
   "cell_type": "markdown",
   "metadata": {
    "hidden": true
   },
   "source": [
    "#### Recherche de liens"
   ]
  },
  {
   "cell_type": "markdown",
   "metadata": {
    "hidden": true
   },
   "source": [
    "On a une faible corrélation positive entre consommation et prix :"
   ]
  },
  {
   "cell_type": "code",
   "execution_count": null,
   "metadata": {
    "hidden": true
   },
   "outputs": [],
   "source": [
    "df_national['Consommation'].corr(df_prices.fr)"
   ]
  },
  {
   "cell_type": "code",
   "execution_count": null,
   "metadata": {
    "hidden": true
   },
   "outputs": [],
   "source": [
    "# standardisation\n",
    "df_price_std = ((df_prices-df_prices.mean())/df_prices.std()).dropna()\n",
    "df_std = ((df_national-df_national.mean())/df_national.std())"
   ]
  },
  {
   "cell_type": "code",
   "execution_count": null,
   "metadata": {
    "hidden": true,
    "scrolled": true
   },
   "outputs": [],
   "source": [
    "df_price_std.loc['2017-02'].dropna().plot()\n",
    "df_std['Consommation'].loc['2017-02'].dropna().plot(figsize=(12, 4))"
   ]
  },
  {
   "cell_type": "code",
   "execution_count": null,
   "metadata": {
    "hidden": true
   },
   "outputs": [],
   "source": [
    "common_ts = set(df_national[prod_].index).intersection(df_prices.index)\n",
    "corr_ =pd.concat((df_national[prod_].loc[common_ts], df_prices.loc[common_ts]),1).corr()\n",
    "sns.heatmap(corr_)"
   ]
  },
  {
   "cell_type": "markdown",
   "metadata": {
    "hidden": true
   },
   "source": [
    "L'éolien fait baisser les prix, en particulier en Allemagne.\n",
    "\n",
    "Le charbon et le gaz sont corrélés à un augmentation des prix (sources flexibles donc allumées quand il y a un manque)."
   ]
  },
  {
   "cell_type": "code",
   "execution_count": null,
   "metadata": {
    "hidden": true
   },
   "outputs": [],
   "source": [
    "corr_[['fr', 'ger']]"
   ]
  },
  {
   "cell_type": "markdown",
   "metadata": {
    "hidden": true
   },
   "source": [
    "On peut aussi regarder les productions associées aux prix élevés et faibles :"
   ]
  },
  {
   "cell_type": "code",
   "execution_count": null,
   "metadata": {
    "hidden": true
   },
   "outputs": [],
   "source": [
    "index_price = df_price_std[df_price_std.fr < -2].index\n",
    "print(len(index_price))\n",
    "common_index = df_std[prod_].index.intersection(index_price)\n",
    "df_std[prod_].loc[common_index].mean().sort_values(ascending=False)"
   ]
  },
  {
   "cell_type": "code",
   "execution_count": null,
   "metadata": {
    "hidden": true
   },
   "outputs": [],
   "source": [
    "index_price = df_price_std[df_price_std.fr >2].index\n",
    "print(len(index_price))\n",
    "common_index = df_std[prod_].index.intersection(index_price)\n",
    "df_std[prod_].loc[common_index].mean().sort_values(ascending=False)"
   ]
  },
  {
   "cell_type": "markdown",
   "metadata": {
    "heading_collapsed": true
   },
   "source": [
    "## BONUS : Emissions de CO2\n",
    "\n",
    "**TODO**\n",
    "\n",
    "- Quel lien entre le taux de C02 et les différentes sources de productions ?\n",
    "- Quelles sources semblent les plus émettrices ?"
   ]
  },
  {
   "cell_type": "code",
   "execution_count": null,
   "metadata": {
    "hidden": true,
    "scrolled": true
   },
   "outputs": [],
   "source": [
    "# df_national_simpl.corr()['Taux de Co2'].sort_values(ascending=False)\n",
    "df_national[prod_].corrwith(df_national['Taux de Co2']).sort_values(ascending=False)"
   ]
  },
  {
   "cell_type": "markdown",
   "metadata": {
    "hidden": true
   },
   "source": [
    "Le charbon et le gaz sont les plus émetteurs de CO2"
   ]
  },
  {
   "cell_type": "markdown",
   "metadata": {
    "heading_collapsed": true
   },
   "source": [
    "## BONUS : Caractéristation des échanges avec les frontières\n",
    "**TODO**\n",
    "\n",
    "- A quel moment les échanges ont-il principalement lieu ?\n",
    "- Quel est le prix payé par la France lorsqu'elle importe de l'électricité ? \n",
    "- Quel est le prix reçu lors des exportations ?"
   ]
  },
  {
   "cell_type": "markdown",
   "metadata": {
    "hidden": true
   },
   "source": [
    "\n",
    "` >0 = importation, <0 = exportation`"
   ]
  },
  {
   "cell_type": "markdown",
   "metadata": {
    "hidden": true
   },
   "source": [
    "#### A quel moment les échanges ont-il principalement lieu ?"
   ]
  },
  {
   "cell_type": "code",
   "execution_count": null,
   "metadata": {
    "extensions": {
     "jupyter_dashboards": {
      "version": 1,
      "views": {
       "grid_default": {
        "hidden": true
       },
       "report_default": {
        "hidden": true
       }
      }
     }
    },
    "hidden": true
   },
   "outputs": [],
   "source": [
    "Ech_comm = ['Ech. comm. Angleterre', 'Ech. comm. Espagne', 'Ech. comm. Italie', \n",
    "            'Ech. comm. Suisse', 'Ech. comm. Allemagne-Belgique']"
   ]
  },
  {
   "cell_type": "code",
   "execution_count": null,
   "metadata": {
    "hidden": true
   },
   "outputs": [],
   "source": [
    "common_index = df_national[Ech_comm].dropna().index.intersection(df_price_std.index)\n",
    "df_temp = pd.concat([df_national.loc[common_index, Ech_comm], df_price_std.loc[common_index]], axis=1)"
   ]
  },
  {
   "cell_type": "code",
   "execution_count": null,
   "metadata": {
    "hidden": true
   },
   "outputs": [],
   "source": [
    "sns.heatmap(df_temp.corr(), cmap=\"RdBu_r\", vmin=-1, vmax=1, linewidths=0.1)"
   ]
  },
  {
   "cell_type": "code",
   "execution_count": null,
   "metadata": {
    "hidden": true
   },
   "outputs": [],
   "source": [
    "df_std[Ech_comm].groupby(df_national.index.day).mean().plot(figsize=(12, 4))"
   ]
  },
  {
   "cell_type": "code",
   "execution_count": null,
   "metadata": {
    "hidden": true
   },
   "outputs": [],
   "source": [
    "df_std[Ech_comm].groupby(df_national.index.dayofweek).mean().plot(figsize=(12, 4))"
   ]
  },
  {
   "cell_type": "markdown",
   "metadata": {
    "hidden": true
   },
   "source": [
    "#### Quel est le prix payé par la France lorsqu'elle importe / exporte de l'électricité ?"
   ]
  },
  {
   "cell_type": "code",
   "execution_count": null,
   "metadata": {
    "hidden": true
   },
   "outputs": [],
   "source": [
    "# importations (france <= allemagne)\n",
    "index_ech = df_national[df_national['Ech. comm. Allemagne-Belgique'] > 0].index\n",
    "# prix_fr = round(df_price_std.loc[df_price_std.index.intersection(index_ech)].fr.mean(), 3)\n",
    "# prix_ger = round(df_price_std.loc[df_price_std.index.intersection(index_ech)].ger.mean(), 3)\n",
    "prix_fr = round(df_prices.loc[df_prices.index.intersection(index_ech)].fr.mean(), 3)\n",
    "prix_ger = round(df_prices.loc[df_prices.index.intersection(index_ech)].ger.mean(), 3)\n",
    "print('prix moy imp fr =', prix_fr, '; prix moy allemagne = ', prix_ger)\n",
    "\n",
    "# exportations (france => allemagne)\n",
    "index_ech = df_national[df_national['Ech. comm. Allemagne-Belgique'] < 0].index\n",
    "# prix_fr = round(df_price_std.loc[df_price_std.index.intersection(index_ech)].fr.mean(), 3)\n",
    "# prix_ger = round(df_price_std.loc[df_price_std.index.intersection(index_ech)].ger.mean(), 3)\n",
    "prix_fr = round(df_prices.loc[df_prices.index.intersection(index_ech)].fr.mean(), 3)\n",
    "prix_ger = round(df_prices.loc[df_prices.index.intersection(index_ech)].ger.mean(), 3)\n",
    "print('prix moy exp fr =', prix_fr, '; prix moy allemagne = ', prix_ger)"
   ]
  },
  {
   "cell_type": "code",
   "execution_count": null,
   "metadata": {
    "hidden": true
   },
   "outputs": [],
   "source": [
    "for pays in Ech_comm:\n",
    "    index_exp = df_national[df_national[pays] < 0].index\n",
    "    prix_exp = round(df_prices.loc[df_prices.index.intersection(index_exp)].fr.mean(), 3)\n",
    "    index_imp = df_national[df_national[pays] > 0].index\n",
    "    prix_imp = round(df_prices.loc[df_prices.index.intersection(index_imp)].fr.mean(), 3)\n",
    "    print(pays, ': prix moy exp =', prix_exp, '(', str(len(index_exp)), 'h) ; prix moy imp =', \n",
    "          prix_imp, '(', str(len(index_imp)), 'h)')"
   ]
  },
  {
   "cell_type": "code",
   "execution_count": null,
   "metadata": {
    "hidden": true
   },
   "outputs": [],
   "source": [
    "sns.heatmap(pd.concat([df_national[prod_], df_national[Ech_comm]], axis=1).corr(),\n",
    "            cmap=\"RdBu_r\", vmin=-1, vmax=1, linewidths=0.1)"
   ]
  }
 ],
 "metadata": {
  "extensions": {
   "jupyter_dashboards": {
    "activeView": "report_default",
    "version": 1,
    "views": {
     "grid_default": {
      "cellMargin": 10,
      "defaultCellHeight": 20,
      "maxColumns": 12,
      "name": "grid",
      "type": "grid"
     },
     "report_default": {
      "name": "report",
      "type": "report"
     }
    }
   }
  },
  "kernelspec": {
   "display_name": "Python 3 (ipykernel)",
   "language": "python",
   "name": "python3"
  },
  "language_info": {
   "codemirror_mode": {
    "name": "ipython",
    "version": 3
   },
   "file_extension": ".py",
   "mimetype": "text/x-python",
   "name": "python",
   "nbconvert_exporter": "python",
   "pygments_lexer": "ipython3",
   "version": "3.11.7"
  },
  "toc": {
   "base_numbering": 1,
   "nav_menu": {},
   "number_sections": true,
   "sideBar": true,
   "skip_h1_title": true,
   "title_cell": "Table of Contents",
   "title_sidebar": "Contents",
   "toc_cell": false,
   "toc_position": {
    "height": "calc(100% - 180px)",
    "left": "10px",
    "top": "150px",
    "width": "204.067px"
   },
   "toc_section_display": true,
   "toc_window_display": false
  },
  "varInspector": {
   "cols": {
    "lenName": 16,
    "lenType": 16,
    "lenVar": 40
   },
   "kernels_config": {
    "python": {
     "delete_cmd_postfix": "",
     "delete_cmd_prefix": "del ",
     "library": "var_list.py",
     "varRefreshCmd": "print(var_dic_list())"
    },
    "r": {
     "delete_cmd_postfix": ") ",
     "delete_cmd_prefix": "rm(",
     "library": "var_list.r",
     "varRefreshCmd": "cat(var_dic_list()) "
    }
   },
   "types_to_exclude": [
    "module",
    "function",
    "builtin_function_or_method",
    "instance",
    "_Feature"
   ],
   "window_display": false
  }
 },
 "nbformat": 4,
 "nbformat_minor": 4
}
