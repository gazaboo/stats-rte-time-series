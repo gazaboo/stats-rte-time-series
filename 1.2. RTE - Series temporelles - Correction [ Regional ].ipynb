{
 "cells": [
  {
   "cell_type": "markdown",
   "metadata": {},
   "source": [
    "# Projet : Consommation et production électrique en France"
   ]
  },
  {
   "cell_type": "markdown",
   "metadata": {},
   "source": [
    "## <a id='toc1_6_'></a>[Exploration du dataset Régional](#toc0_)"
   ]
  },
  {
   "cell_type": "markdown",
   "metadata": {},
   "source": [
    "### <a id='toc1_6_1_'></a>[Réflexion](#toc0_)"
   ]
  },
  {
   "cell_type": "markdown",
   "metadata": {},
   "source": [
    "Attention à bien nuancer nos propos dans cette partie là : chaque région n'est pas égale en population, en superficie,... \n",
    "- https://www.ined.fr/fr/tout-savoir-population/chiffres/france/structure-population/regions-departements/\n",
    "- https://www.regions-departements-france.fr/regions-francaises.html\n",
    "\n",
    "Pensez à réflechir à d'autres critères de comparaison reflétants ces disparités.   "
   ]
  },
  {
   "cell_type": "markdown",
   "metadata": {},
   "source": [
    "### <a id='toc1_6_2_'></a>[Analyse générale](#toc0_)"
   ]
  },
  {
   "cell_type": "markdown",
   "metadata": {},
   "source": [
    "On va commencer par une première exploration générale des données. \n",
    "\n",
    "\n",
    "&#x1F4A5; **To Do**\n",
    "\n",
    "\n",
    "    - Tracer sur un même graphique la consommation des différentes régions en fonction du temps\n",
    "    \n",
    "    - Peut-on observer des différences comportementales significatives entre les régions ? (par ex entre une région du nord et une région du sud)\n",
    "    \n",
    "    - Quelles régions sont les plus consommatrices ? Même question en ramenant la réponse au nombre d'habitants ? Même question en ramenant la réponse au km2 ? Que pouvez-vous dire des résultats ? \n",
    "        \n",
    "<br> \n",
    "\n",
    "**Ressources :** \n",
    "- https://pandas.pydata.org/docs/reference/api/pandas.DataFrame.pivot.html \n",
    "- https://pandas.pydata.org/docs/reference/api/pandas.DataFrame.resample.html\n",
    "- https://pandas.pydata.org/docs/reference/api/pandas.DataFrame.rolling.html\n",
    "- https://pandas.pydata.org/docs/reference/api/pandas.DataFrame.div.html"
   ]
  },
  {
   "cell_type": "markdown",
   "metadata": {},
   "source": [
    "#### <a id='toc1_6_2_1_'></a>[Solutions](#toc0_)"
   ]
  },
  {
   "cell_type": "markdown",
   "metadata": {},
   "source": [
    "##### <a id='toc1_6_2_1_1_'></a>[Tracer sur un même graphique la consommation des différentes régions en fonction du temps](#toc0_)"
   ]
  },
  {
   "cell_type": "code",
   "execution_count": null,
   "metadata": {
    "code_folding": []
   },
   "outputs": [],
   "source": [
    "# En Janvier\n",
    "(df_regional.loc[\"2015-Jan-01\":\"2015-Jan-10\", :]\n",
    "            .pivot(columns='Périmètre', values='Consommation')\n",
    "            .resample('1H')      # resample to see better\n",
    "            .mean()\n",
    "            .plot(figsize=(14, 5),\n",
    "                  lw=1,          # line width\n",
    "                  cmap=\"Set3\")   # choosing a \"good colormap\"\n",
    "            .legend(bbox_to_anchor=(1, 1),  # placing legends\n",
    "                    fontsize='small')\n",
    " )"
   ]
  },
  {
   "cell_type": "code",
   "execution_count": null,
   "metadata": {
    "code_folding": [
     0
    ],
    "jupyter": {
     "source_hidden": true
    }
   },
   "outputs": [],
   "source": [
    "# En juillet\n",
    "(df_regional.loc[\"2015-Jul-01\":\"2015-Jul-30\", :]\n",
    "            .pivot(columns='Périmètre', values='Consommation')\n",
    "            .resample('1H')      # resample to see better\n",
    "            .mean()\n",
    "            .plot(figsize=(14, 5),\n",
    "                  lw=1,          # line width\n",
    "                  cmap=\"Set3\")   # choosing a \"good colormap\"\n",
    "            .legend(\n",
    "    bbox_to_anchor=(1, 1),  # placing legends\n",
    "    fontsize='small')\n",
    " )"
   ]
  },
  {
   "cell_type": "code",
   "execution_count": null,
   "metadata": {
    "code_folding": [
     0
    ],
    "jupyter": {
     "source_hidden": true
    }
   },
   "outputs": [],
   "source": [
    "# Année 2015\n",
    "(df_regional.loc[\"2015-Jan\": \"2015-Dec\", :]\n",
    "            .pivot(columns='Périmètre', values='Consommation')\n",
    "            .resample('1D')      # resample to see better\n",
    "            .sum()\n",
    "            .plot(figsize=(14, 5),\n",
    "                  lw=1,          # line width\n",
    "                  cmap=\"Set3\",   # choosing a \"good colormap\"\n",
    "                  title=\"Conso total par jour\")\n",
    "            .legend(\n",
    "    bbox_to_anchor=(1, 1),  # placing legends\n",
    "    fontsize='small')\n",
    " )"
   ]
  },
  {
   "cell_type": "code",
   "execution_count": null,
   "metadata": {},
   "outputs": [],
   "source": [
    "df_regional.loc[\"2015-Jan-01\":\"2015-Jan-15\",\n",
    "                :].pivot(columns='Périmètre', values='Consommation')"
   ]
  },
  {
   "cell_type": "markdown",
   "metadata": {},
   "source": [
    "L'IDF et l'AURA sont les plus gros consommateurs, tandis que le CVDL et BFC consomment moins <br/>"
   ]
  },
  {
   "cell_type": "markdown",
   "metadata": {},
   "source": [
    "##### <a id='toc1_6_2_1_2_'></a>[Quelles régions sont les plus consommatrices ? Même question en ramenant la réponse au nombre d'habitants ? Même question en ramenant la réponse au km2 ?](#toc0_)"
   ]
  },
  {
   "cell_type": "code",
   "execution_count": null,
   "metadata": {
    "code_folding": [
     0
    ],
    "jupyter": {
     "source_hidden": true
    }
   },
   "outputs": [],
   "source": [
    "# Population moyenne entre 2013 et 2018\n",
    "data_regions_population = pd.Series({\n",
    "    \"Auvergne-Rhône-Alpes\": 6682755,\n",
    "    \"Bourgogne-Franche-Comté\": 2788566,\n",
    "    \"Bretagne\": 3336547,\n",
    "    \"Centre-Val de Loire\": 2491894,\n",
    "    \"Grand-Est\": 5564524,\n",
    "    \"Hauts-de-France\": 5968186,\n",
    "    \"Ile-de-France\": 12218464,\n",
    "    \"Normandie\": 3387158,\n",
    "    \"Nouvelle-Aquitaine\": 5951645,\n",
    "    \"Occitanie\": 5883118,\n",
    "    \"Pays-de-la-Loire\": 3740368,\n",
    "    \"PACA\": 5074089\n",
    "})\n",
    "\n",
    "# On créé un dataframe avec Noms de région en colonne et comme valeur la consommation. Index = timestamp.\n",
    "pivot = df_regional.loc[\"2015-Jan-01\":\"2015-Jan-15\", :] \\\n",
    "                   .pivot(columns='Périmètre', values='Consommation')\n",
    "\n",
    "# On divise la consommation par le nombre d'habitants par région\n",
    "df_per_inhabitant = pivot.div(data_regions_population)"
   ]
  },
  {
   "cell_type": "code",
   "execution_count": null,
   "metadata": {
    "code_folding": [],
    "jupyter": {
     "source_hidden": true
    }
   },
   "outputs": [],
   "source": [
    "subset = [\"Auvergne-Rhône-Alpes\",\n",
    "          \"Centre-Val de Loire\",  \"Ile-de-France\", \"PACA\"]\n",
    "(df_per_inhabitant[subset]\n",
    " .resample('1H')              # resample to see better\n",
    " .sum()\n",
    " .plot(figsize=(14, 5),\n",
    "       lw=1,                  # line width\n",
    "       cmap=\"Set2\")          # choosing a \"good colormap\"\n",
    " .legend(\n",
    "    bbox_to_anchor=(1, 1),  # placing legends\n",
    "    fontsize='small')\n",
    " )"
   ]
  },
  {
   "cell_type": "markdown",
   "metadata": {},
   "source": [
    "### <a id='toc1_6_3_'></a>[Etude de la production non renouvelable.](#toc0_)"
   ]
  },
  {
   "cell_type": "markdown",
   "metadata": {},
   "source": [
    "&#x1F4A5; **To Do**\n",
    "\n",
    "    - Dans quelles régions produit-t-on le plus d'électricité d'origine non renouvelable ? \n",
    "    \n",
    "    - Quelle est l'évolution de la production d'électricité d'origine non renouvelable ? \n",
    "    \n",
    "    - Afficher la production nucléaire totale par région sur l'ensemble de la période . Dans quelles régions sont situées les centrales nucléaires ? Dans quelles régions n'y a-t-il pas de centrale nucléaire ?   "
   ]
  },
  {
   "cell_type": "markdown",
   "metadata": {},
   "source": [
    "#### <a id='toc1_6_3_1_'></a>[Solution](#toc0_)"
   ]
  },
  {
   "cell_type": "markdown",
   "metadata": {},
   "source": [
    "##### <a id='toc1_6_3_1_1_'></a>[Dans quelles régions produit-t-on le plus d'électricité d'origine non renouvelable ?](#toc0_)"
   ]
  },
  {
   "cell_type": "code",
   "execution_count": null,
   "metadata": {
    "jupyter": {
     "source_hidden": true
    }
   },
   "outputs": [],
   "source": [
    "sources_non_renouvelables = ['Périmètre', 'Thermique', 'Nucléaire']\n",
    "\n",
    "(df_regional[sources_non_renouvelables]\n",
    " .groupby(\"Périmètre\")\n",
    " .sum()\n",
    " .sum(axis=1)\n",
    " .sort_values()\n",
    " .plot.barh(\n",
    "    xlabel=\"W\",\n",
    "    ylabel='Régions',\n",
    "    title=\"Production totale d'origine thermique ou nucléaire\",\n",
    "    figsize=(12, 4)\n",
    ")\n",
    ")\n",
    "\n",
    "plt.show()"
   ]
  },
  {
   "cell_type": "markdown",
   "metadata": {},
   "source": [
    "##### <a id='toc1_6_3_1_2_'></a>[Afficher la production nucléaire totale par région sur l'ensemble de la période . Dans quelles régions sont situées les centrales nucléaires ? Dans quelles régions n'y a-t-il pas de centrale nucléaire ?](#toc0_)"
   ]
  },
  {
   "cell_type": "code",
   "execution_count": null,
   "metadata": {},
   "outputs": [],
   "source": [
    "df_regional.pivot(columns='Périmètre', values='Nucléaire')"
   ]
  },
  {
   "cell_type": "code",
   "execution_count": null,
   "metadata": {},
   "outputs": [],
   "source": [
    "(\n",
    "    df_regional.pivot(columns='Périmètre', values='Nucléaire')\n",
    "               .sum()\n",
    "               .sort_values()\n",
    "               .plot.barh(xlabel=\"\", ylabel=\"Régions\", title=\"Production nucléaire (en W) \")\n",
    ")\n",
    "\n",
    "plt.show()"
   ]
  },
  {
   "cell_type": "markdown",
   "metadata": {},
   "source": [
    "### <a id='toc1_6_4_'></a>[Etude de la production renouvelable](#toc0_)\n"
   ]
  },
  {
   "cell_type": "markdown",
   "metadata": {},
   "source": [
    "&#x1F4A5; **To Do**\n",
    "\n",
    "    - Quelle région produit le plus d'électricité d'origine renouvelable ?\n",
    "\n",
    "    - Quelle évolution sur les dernières années ? Faîtes un joli graphique. \n",
    "   \n",
    "    - Quelle région a le meilleur taux \" énergie produite VS puissance installée \" ? \n",
    "    Vous pourrez assimiler la puissance installée comme étant égale au maximum produit. Attention à bien définir vos critères, cette capacité peut augmenter dans le temps..."
   ]
  },
  {
   "cell_type": "markdown",
   "metadata": {},
   "source": [
    "#### <a id='toc1_6_4_1_'></a>[Solutions](#toc0_)"
   ]
  },
  {
   "cell_type": "markdown",
   "metadata": {},
   "source": [
    "##### <a id='toc1_6_4_1_1_'></a>[Quelle région produit le plus d'électricité d'origine renouvelable ?](#toc0_)"
   ]
  },
  {
   "cell_type": "code",
   "execution_count": null,
   "metadata": {
    "hidden": true,
    "jupyter": {
     "source_hidden": true
    }
   },
   "outputs": [],
   "source": [
    "sources_renouvelables = ['Périmètre', 'Eolien',\n",
    "                         'Solaire', 'Hydraulique', 'Bioénergies']\n",
    "\n",
    "(df_regional[sources_renouvelables]\n",
    " .groupby(\"Périmètre\")\n",
    " .sum()\n",
    " .sum(axis=1)\n",
    " .sort_values()\n",
    " .plot.barh(\n",
    "    xlabel=\"\",\n",
    "    ylabel='Régions',\n",
    "    title=\"Production totale d'origine renouvelable (Eolien, Solaire, Hydraulique, Bioénergies)\",\n",
    "    figsize=(12, 4)\n",
    ")\n",
    ")\n",
    "\n",
    "plt.show()"
   ]
  },
  {
   "cell_type": "markdown",
   "metadata": {},
   "source": [
    "##### <a id='toc1_6_4_1_2_'></a>[Quelle évolution sur les dernières années ? Faîtes un joli graphique.](#toc0_)"
   ]
  },
  {
   "cell_type": "code",
   "execution_count": null,
   "metadata": {
    "jupyter": {
     "source_hidden": true
    }
   },
   "outputs": [],
   "source": [
    "sources_renouvelables = ['Eolien', 'Solaire', 'Hydraulique', 'Bioénergies']\n",
    "sources_non_renouvelables = ['Thermique', 'Nucléaire']\n",
    "\n",
    "df_regional[\"Production Renouvelable\"] = df_regional[sources_renouvelables].sum(\n",
    "    axis=1).abs()\n",
    "df_regional[\"Production Non Renouvelable\"] = df_regional[sources_non_renouvelables].sum(\n",
    "    axis=1).abs()\n",
    "\n",
    "df_aggrege = df_regional[[\n",
    "    \"Périmètre\", \"Production Renouvelable\", \"Production Non Renouvelable\"]]\n",
    "\n",
    "fig, ax = plt.subplots(6, 2, figsize=(15, 12), sharex=True)\n",
    "count = 0\n",
    "for label, df in df_aggrege.groupby(\"Périmètre\"):\n",
    "    (df[[\"Production Renouvelable\", \"Production Non Renouvelable\"]]\n",
    "        .resample(\"7D\")\n",
    "        .sum()\n",
    "        .plot.area(ax=ax[int(count/2), count % 2],\n",
    "                   title=label,\n",
    "                   stacked=True)\n",
    "        .legend(\n",
    "        bbox_to_anchor=(0.75, 1),\n",
    "        fontsize='small')\n",
    "     )\n",
    "    count += 1\n",
    "fig.tight_layout()\n",
    "plt.show()"
   ]
  },
  {
   "cell_type": "markdown",
   "metadata": {},
   "source": [
    "##### <a id='toc1_6_4_1_3_'></a>[Quelle région a le meilleur taux \" énergie produite VS puissance installée \" ?](#toc0_)\n",
    "Vous pourrez assimiler la puissance installée comme étant égale au maximum produit. Attention à bien définir vos critères, cette capacité peut augmenter dans le temps..."
   ]
  },
  {
   "cell_type": "code",
   "execution_count": null,
   "metadata": {
    "jupyter": {
     "source_hidden": true
    }
   },
   "outputs": [],
   "source": [
    "# To do"
   ]
  },
  {
   "cell_type": "markdown",
   "metadata": {},
   "source": [
    "### <a id='toc1_6_5_'></a>[Autonomie électrique des régions](#toc0_)"
   ]
  },
  {
   "cell_type": "markdown",
   "metadata": {
    "hidden": true
   },
   "source": [
    "&#x1F4A5; **To Do**\n",
    "\n",
    "    - Afficher la différence entre la consommation et la production pour chaque région. \n",
    "    \n",
    "    - Quelles régions sont autonomes ? En excès ? En déficit ?\n",
    "    \n",
    "    - Comparer ce résultat à la colonne 'Ech. physiques'\n",
    "    \n",
    "    - Afficher un histogramme de l'écart entre énergie produite et consommée. Calculer la moyenne et la variance de cet écart.  \n",
    "        \n",
    "    - Observer les informations concernant la région AuRA. Retrouver la signification du signe des échanges ? Pourquoi la région est-elle autant exportatrice ?"
   ]
  },
  {
   "cell_type": "markdown",
   "metadata": {},
   "source": [
    "#### <a id='toc1_6_5_1_'></a>[Afficher la différence entre la consommation et la production pour chaque région <br> Quelles régions sont autonomes ? En excès ? En déficit ?](#toc0_)"
   ]
  },
  {
   "cell_type": "code",
   "execution_count": null,
   "metadata": {
    "hidden": true,
    "jupyter": {
     "source_hidden": true
    }
   },
   "outputs": [],
   "source": [
    "production = [\"Thermique\", \"Nucléaire\", \"Eolien\",\n",
    "              \"Solaire\", \"Hydraulique\", \"Bioénergies\"]\n",
    "df_regional[\"Production totale\"] = df_regional[production].sum(axis=1)"
   ]
  },
  {
   "cell_type": "code",
   "execution_count": null,
   "metadata": {
    "hidden": true,
    "jupyter": {
     "source_hidden": true
    }
   },
   "outputs": [],
   "source": [
    "# C'es pas exactement la réponse à la question, mais j'aimais bien\n",
    "fig, ax = plt.subplots(6, 2, figsize=(15, 12), sharex=True)\n",
    "count = 0\n",
    "for label, df in df_regional.groupby(\"Périmètre\"):\n",
    "    (df[[\"Consommation\", \"Production totale\"]]\n",
    "        .resample(\"7D\")\n",
    "        .sum()\n",
    "        .plot(ax=ax[int(count/2), count % 2],\n",
    "              title=label)\n",
    "        .legend(\n",
    "        bbox_to_anchor=(1, 1),\n",
    "        fontsize='small')\n",
    "     )\n",
    "    count += 1\n",
    "fig.tight_layout()\n",
    "plt.show()"
   ]
  },
  {
   "cell_type": "markdown",
   "metadata": {},
   "source": [
    "### <a id='toc1_6_6_'></a>[Solutions](#toc0_)"
   ]
  },
  {
   "cell_type": "markdown",
   "metadata": {},
   "source": [
    "#### <a id='toc1_6_6_1_'></a>[Rôle de la région AURA](#toc0_)"
   ]
  },
  {
   "cell_type": "markdown",
   "metadata": {
    "hidden": true
   },
   "source": [
    "AURA exporte car elle a beaucoup de barrages (stockage de la production nucléaire, puis redistribution quand elle exporte)"
   ]
  },
  {
   "cell_type": "markdown",
   "metadata": {},
   "source": [
    "#### <a id='toc1_6_6_2_'></a>[Autonomie électrique des régions](#toc0_)"
   ]
  },
  {
   "cell_type": "code",
   "execution_count": null,
   "metadata": {
    "hidden": true,
    "jupyter": {
     "source_hidden": true
    }
   },
   "outputs": [],
   "source": [
    "df_regional.columns.levels"
   ]
  },
  {
   "cell_type": "code",
   "execution_count": null,
   "metadata": {
    "hidden": true
   },
   "outputs": [],
   "source": [
    "prod_r = ['Thermique', 'Nucléaire', 'Eolien',\n",
    "          'Solaire', 'Hydraulique', 'Pompage', 'Bioénergies']"
   ]
  },
  {
   "cell_type": "markdown",
   "metadata": {},
   "source": [
    "##### <a id='toc1_6_6_2_1_'></a>[Quelles régions sont autonomes ? en exces ? en déficit ?](#toc0_)"
   ]
  },
  {
   "cell_type": "code",
   "execution_count": null,
   "metadata": {
    "hidden": true,
    "jupyter": {
     "source_hidden": true
    }
   },
   "outputs": [],
   "source": [
    "diff_conso_prod_per_reg.describe()"
   ]
  },
  {
   "cell_type": "markdown",
   "metadata": {
    "hidden": true
   },
   "source": [
    "Les régions avec des moyennes négatives sont en déficit : surtout l'IDF"
   ]
  },
  {
   "cell_type": "code",
   "execution_count": null,
   "metadata": {
    "hidden": true
   },
   "outputs": [],
   "source": [
    "df_regional_swaped.mean().unstack().head()"
   ]
  },
  {
   "cell_type": "markdown",
   "metadata": {},
   "source": [
    "##### <a id='toc1_6_6_2_2_'></a>[Comparer ce résultat à la colonne 'Ech. physiques'](#toc0_)"
   ]
  },
  {
   "cell_type": "code",
   "execution_count": null,
   "metadata": {
    "hidden": true,
    "jupyter": {
     "source_hidden": true
    }
   },
   "outputs": [],
   "source": [
    "(df_regional_swaped['Ech. physiques'] +\n",
    " diff_conso_prod_per_reg).plot(figsize=(15, 10))"
   ]
  },
  {
   "cell_type": "markdown",
   "metadata": {
    "hidden": true
   },
   "source": [
    "On voit bien que l'IDF et CVDL ont besoin d'importer de l'électricité pour leur consommation"
   ]
  }
 ],
 "metadata": {
  "extensions": {
   "jupyter_dashboards": {
    "activeView": "report_default",
    "version": 1,
    "views": {
     "grid_default": {
      "cellMargin": 10,
      "defaultCellHeight": 20,
      "maxColumns": 12,
      "name": "grid",
      "type": "grid"
     },
     "report_default": {
      "name": "report",
      "type": "report"
     }
    }
   }
  },
  "kernelspec": {
   "display_name": "stats",
   "language": "python",
   "name": "stats"
  },
  "language_info": {
   "codemirror_mode": {
    "name": "ipython",
    "version": 3
   },
   "file_extension": ".py",
   "mimetype": "text/x-python",
   "name": "python",
   "nbconvert_exporter": "python",
   "pygments_lexer": "ipython3",
   "version": "3.12.4"
  },
  "toc": {
   "base_numbering": 1,
   "nav_menu": {},
   "number_sections": true,
   "sideBar": true,
   "skip_h1_title": true,
   "title_cell": "Table of Contents",
   "title_sidebar": "Contents",
   "toc_cell": false,
   "toc_position": {
    "height": "calc(100% - 180px)",
    "left": "10px",
    "top": "150px",
    "width": "204.067px"
   },
   "toc_section_display": true,
   "toc_window_display": false
  },
  "toc-autonumbering": true,
  "toc-showcode": false,
  "varInspector": {
   "cols": {
    "lenName": 16,
    "lenType": 16,
    "lenVar": 40
   },
   "kernels_config": {
    "python": {
     "delete_cmd_postfix": "",
     "delete_cmd_prefix": "del ",
     "library": "var_list.py",
     "varRefreshCmd": "print(var_dic_list())"
    },
    "r": {
     "delete_cmd_postfix": ") ",
     "delete_cmd_prefix": "rm(",
     "library": "var_list.r",
     "varRefreshCmd": "cat(var_dic_list()) "
    }
   },
   "types_to_exclude": [
    "module",
    "function",
    "builtin_function_or_method",
    "instance",
    "_Feature"
   ],
   "window_display": false
  }
 },
 "nbformat": 4,
 "nbformat_minor": 4
}
